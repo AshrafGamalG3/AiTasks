{
 "cells": [
  {
   "cell_type": "markdown",
   "id": "a12b1e3a-25c1-4871-837a-eb900e8d13f4",
   "metadata": {},
   "source": [
    "**1-Write a Python program to calculate the length of a string using 2 ways"
   ]
  },
  {
   "cell_type": "code",
   "execution_count": 306,
   "id": "e434c950",
   "metadata": {},
   "outputs": [
    {
     "name": "stdout",
     "output_type": "stream",
     "text": [
      "12\n"
     ]
    }
   ],
   "source": [
    "text=\"Ashraf Gamal\"\n",
    "print(len(text))\n",
    "#سبحان الله وبحمده سبحان الله العظيم."
   ]
  },
  {
   "cell_type": "code",
   "execution_count": 3,
   "id": "7a2dfa32",
   "metadata": {},
   "outputs": [
    {
     "name": "stdout",
     "output_type": "stream",
     "text": [
      "12\n"
     ]
    }
   ],
   "source": [
    "    count = 0\n",
    "    for char in text:\n",
    "        count += 1\n",
    "    print(count)\n",
    "#سبحان الله وبحمده سبحان الله العظيم."
   ]
  },
  {
   "cell_type": "markdown",
   "id": "d7cc9da7",
   "metadata": {},
   "source": [
    "**2-Write a Python program to get a string made of the first 2 and last 2 characters of a given string. If the string length is less than 2, return the empty string instead (\"##Sample String : 'w3resource'\n",
    "Expected Result : 'w3ce'\n",
    "##Sample String : 'w3'\n",
    "Expected Result : 'w3w3'\n",
    "##Sample String : ' w'\n",
    "Expected Result : Empty String)"
   ]
  },
  {
   "cell_type": "code",
   "execution_count": 308,
   "id": "dafa9dd8",
   "metadata": {},
   "outputs": [
    {
     "name": "stdout",
     "output_type": "stream",
     "text": [
      "w3ce\n",
      "w3w3\n",
      "Empty String\n"
     ]
    }
   ],
   "source": [
    "#سبحان الله وبحمده سبحان الله العظيم.\n",
    "sampleStrings = ['w3resource', 'w3', 'w']\n",
    "for sample in sampleStrings:\n",
    "    if len(sample) < 2:\n",
    "        print(\"Empty String\")\n",
    "    else:    \n",
    "        print(sample[:2] + sample[-2:])\n"
   ]
  },
  {
   "cell_type": "markdown",
   "id": "1534f956",
   "metadata": {},
   "source": [
    "**3-Write a Python program to add 'ing' at the end of a given string (length should be at least 3). If the given string already ends with 'ing', add 'ly' instead. If the string length of the given string is less than 3, leave it unchanged. (Sample String : 'abc'\n",
    "Expected Result : 'abcing')"
   ]
  },
  {
   "cell_type": "code",
   "execution_count": 309,
   "id": "7ff8cec4",
   "metadata": {},
   "outputs": [
    {
     "name": "stdout",
     "output_type": "stream",
     "text": [
      "ablying\n"
     ]
    }
   ],
   "source": [
    "#سبحان الله وبحمده سبحان الله العظيم.\n",
    "sample_string = \"ably\"\n",
    "if len(sample_string) >= 3:\n",
    "    if sample_string.endswith(\"ing\"):\n",
    "         result = sample_string + \"ly\"\n",
    "    else:\n",
    "         result = sample_string + \"ing\"\n",
    "else:\n",
    "    result = sample_string\n",
    "print(result)"
   ]
  },
  {
   "cell_type": "markdown",
   "id": "1c0a6627",
   "metadata": {},
   "source": [
    "**4-Write a Python function that takes a list of words and return the longest word and the length of the longest one\n",
    "(Longest word: Exercises\n",
    "Length of the longest word: 9)"
   ]
  },
  {
   "cell_type": "code",
   "execution_count": 37,
   "id": "397341d9",
   "metadata": {},
   "outputs": [
    {
     "name": "stdout",
     "output_type": "stream",
     "text": [
      "Longest word: sagsde00000\n",
      "Length of sagsde00000: 11\n"
     ]
    }
   ],
   "source": [
    "def longest_word_and_length(word_list):\n",
    "    longest_word = max(word_list, key=len)\n",
    "    return longest_word, len(longest_word)\n",
    "    \n",
    "words=[\"sadfsdag\",\"gsadgs\",\"sagsde00000\"]\n",
    "longest_word, length = longest_word_and_length(words)\n",
    "print(\"Longest word:\", longest_word)\n",
    "print(\"Length of {}: {}\".format(longest_word, length))\n",
    "#سبحان الله وبحمده سبحان الله العظيم."
   ]
  },
  {
   "cell_type": "markdown",
   "id": "53a03a6a",
   "metadata": {},
   "source": [
    "**5-Write a Python program to change a given string to a newly string where the first and last chars have been exchanged using 2 ways (Sample String:abca  Expected Result:ebce)"
   ]
  },
  {
   "cell_type": "code",
   "execution_count": 14,
   "id": "fd327d2a",
   "metadata": {},
   "outputs": [
    {
     "name": "stdout",
     "output_type": "stream",
     "text": [
      "abce\n"
     ]
    }
   ],
   "source": [
    "def exchange_chars1(s):\n",
    "        return s[-1] + s[1:-1] + s[0]\n",
    "print(exchange_chars1(\"ebca\"))   \n",
    "#سبحان الله وبحمده سبحان الله العظيم."
   ]
  },
  {
   "cell_type": "code",
   "execution_count": 13,
   "id": "285788b4",
   "metadata": {},
   "outputs": [
    {
     "name": "stdout",
     "output_type": "stream",
     "text": [
      "abcb\n"
     ]
    }
   ],
   "source": [
    "def exchange_chars2(s):\n",
    "        return s[-1] + s[1:len(s)-1] + s[0]\n",
    "print(exchange_chars2(\"bbca\"))    \n",
    "#سبحان الله وبحمده سبحان الله العظيم."
   ]
  },
  {
   "cell_type": "code",
   "execution_count": 12,
   "id": "ee51303d-21f7-4b5f-98aa-1558ab1f5e5d",
   "metadata": {},
   "outputs": [
    {
     "name": "stdout",
     "output_type": "stream",
     "text": [
      "abce\n"
     ]
    }
   ],
   "source": [
    "def exchange_chars1(s: str) -> str:\n",
    "        l = list(s)\n",
    "        l[0], l[-1] = l[-1], l[0]\n",
    " \n",
    "        return ''.join(l)\n",
    "\n",
    "print(exchange_chars1(\"ebca\")) \n",
    "#سبحان الله وبحمده سبحان الله العظيم."
   ]
  },
  {
   "cell_type": "markdown",
   "id": "25f89808",
   "metadata": {},
   "source": [
    "**6-Write a Python program to remove characters that have odd index values in a given string (Sample String:abca Expected Result:ac)"
   ]
  },
  {
   "cell_type": "code",
   "execution_count": 16,
   "id": "05959bd7",
   "metadata": {},
   "outputs": [
    {
     "name": "stdout",
     "output_type": "stream",
     "text": [
      "ac\n"
     ]
    }
   ],
   "source": [
    "def remove_odd_index_characters(s):\n",
    "    return s[::2]\n",
    "print(remove_odd_index_characters(\"abc\"))    \n",
    "#سبحان الله وبحمده سبحان الله العظيم."
   ]
  },
  {
   "cell_type": "code",
   "execution_count": 15,
   "id": "b9f223fa-a178-46e4-aa6c-78df9ae2b0fc",
   "metadata": {},
   "outputs": [
    {
     "name": "stdout",
     "output_type": "stream",
     "text": [
      "ac\n"
     ]
    }
   ],
   "source": [
    "def remove_odd_index_characters1(s):\n",
    "    result = \"\"\n",
    "    for i in range(len(s)):\n",
    "        if i % 2 == 0:\n",
    "            result += s[i]\n",
    "    return result\n",
    "print(remove_odd_index_characters1(\"abc\"))    \n",
    "#سبحان الله وبحمده سبحان الله العظيم."
   ]
  },
  {
   "cell_type": "markdown",
   "id": "eb16e898",
   "metadata": {},
   "source": [
    "**7-Write a Python program to count the occurrences of each word in a given sentence (Sample String:amr and ahmed are frindes but amr is the tallest Expected Result:2)"
   ]
  },
  {
   "cell_type": "code",
   "execution_count": 17,
   "id": "01ce6cf5",
   "metadata": {},
   "outputs": [
    {
     "name": "stdout",
     "output_type": "stream",
     "text": [
      "Counter({'amr': 2, 'and': 1, 'ahmed': 1, 'are': 1, 'frindes': 1, 'but': 1, 'is': 1, 'the': 1, 'tallest': 1})\n"
     ]
    }
   ],
   "source": [
    "from collections import Counter\n",
    "def count_word_occurrences(s):\n",
    "    c = Counter(s.split())\n",
    "    return c\n",
    "print(count_word_occurrences(\"amr and ahmed are frindes but amr is the tallest \"))    \n",
    "#سبحان الله وبحمده سبحان الله العظيم."
   ]
  },
  {
   "cell_type": "code",
   "execution_count": 18,
   "id": "2518affc-98ae-4205-955c-cd6eb2a24256",
   "metadata": {},
   "outputs": [
    {
     "name": "stdout",
     "output_type": "stream",
     "text": [
      "Result: 2\n"
     ]
    }
   ],
   "source": [
    "s = \"amr and ahmed are friends but amr is the tallest\"\n",
    "result = s.count(\"amr\")\n",
    "print(\"Result:\", result) \n",
    "#سبحان الله وبحمده سبحان الله العظيم."
   ]
  },
  {
   "cell_type": "markdown",
   "id": "4e8125f1",
   "metadata": {},
   "source": [
    "**8-Write a Python script that takes input from the user and displays that input back in upper and lower cases"
   ]
  },
  {
   "cell_type": "code",
   "execution_count": 22,
   "id": "66c8f778",
   "metadata": {},
   "outputs": [
    {
     "name": "stdin",
     "output_type": "stream",
     "text": [
      "Enter a string:  uuuuuuuuuuuuuuuuuuu\n"
     ]
    },
    {
     "name": "stdout",
     "output_type": "stream",
     "text": [
      "UUUUUUUUUUUUUUUUUUU\n",
      "uuuuuuuuuuuuuuuuuuu\n"
     ]
    }
   ],
   "source": [
    "n = input(\"Enter a string: \")\n",
    "print(n.upper())\n",
    "print(n.lower())\n",
    "#سبحان الله وبحمده سبحان الله العظيم."
   ]
  },
  {
   "cell_type": "markdown",
   "id": "fcd68aa1",
   "metadata": {},
   "source": [
    "**9-Write a Python function to reverse a string if its length is a multiple of 4"
   ]
  },
  {
   "cell_type": "code",
   "execution_count": 29,
   "id": "0671a931",
   "metadata": {},
   "outputs": [
    {
     "name": "stdout",
     "output_type": "stream",
     "text": [
      "fdsa\n"
     ]
    }
   ],
   "source": [
    "def reverse_string_if_multiple_of_4(s):\n",
    "    return s[::-1] if len(s) % 4 == 0 else s\n",
    "print(reverse_string_if_multiple_of_4(\"asdf\"))\n",
    "#سبحان الله وبحمده سبحان الله العظيم."
   ]
  },
  {
   "cell_type": "markdown",
   "id": "b577c68d",
   "metadata": {},
   "source": [
    "**10- Write a Python program to remove a newline in Python"
   ]
  },
  {
   "cell_type": "code",
   "execution_count": 31,
   "id": "e0c6525a",
   "metadata": {},
   "outputs": [
    {
     "name": "stdout",
     "output_type": "stream",
     "text": [
      "Text without newline: HelloWorld\n"
     ]
    }
   ],
   "source": [
    "# s = \"Hello\\nWorld\\n\"\n",
    "# swnl = s.rstrip(\"\\n\")\n",
    "# print(\"Text without newline:\", swnl)\n",
    "s = \"Hello\\nWorld\\n\"\n",
    "swnl = s.replace(\"\\n\", \"\")\n",
    "print(\"Text after remove newline:\", swnl)\n",
    "#سبحان الله وبحمده سبحان الله العظيم."
   ]
  },
  {
   "cell_type": "markdown",
   "id": "80db5ae0",
   "metadata": {},
   "source": [
    "**11-Write a Python program to check whether a string starts with specified characters"
   ]
  },
  {
   "cell_type": "code",
   "execution_count": 141,
   "id": "0cc4e03e",
   "metadata": {},
   "outputs": [
    {
     "name": "stdout",
     "output_type": "stream",
     "text": [
      "True\n"
     ]
    }
   ],
   "source": [
    "s = \"hello world\"\n",
    "c = \"h\"\n",
    "print(s.startswith(c))\n",
    "#سُبْحَانَ اللَّهِ رَبِّ السَّمَاوَاتِ وَالْأَرْضِ وَمَا بَيْنَهُمَا ۖ وَرَبِّ الْعَرْشِ الْعَظِيمِ."
   ]
  },
  {
   "cell_type": "markdown",
   "id": "593a68db",
   "metadata": {},
   "source": [
    "**12- Write a Python program to add prefix text to all of the lines in a string"
   ]
  },
  {
   "cell_type": "code",
   "execution_count": 32,
   "id": "d2e46ada",
   "metadata": {},
   "outputs": [
    {
     "name": "stdout",
     "output_type": "stream",
     "text": [
      "Prefix: sdf\n",
      "Prefix: sadfsd\n",
      "Prefix: asdf\n"
     ]
    }
   ],
   "source": [
    "def add_prefix_to_lines(s, prefix):\n",
    "    return '\\n'.join(prefix + line for line in s.splitlines())\n",
    "s = \"\"\"sdf\n",
    "sadfsd\n",
    "asdf\"\"\"    \n",
    "prefix = \"Prefix: \"\n",
    "print(add_prefix_to_lines(s, prefix))\n",
    "#سُبْحَانَ اللَّهِ رَبِّ السَّمَاوَاتِ وَالْأَرْضِ وَمَا بَيْنَهُمَا ۖ وَرَبِّ الْعَرْشِ الْعَظِيمِ."
   ]
  },
  {
   "cell_type": "markdown",
   "id": "86fa1543",
   "metadata": {},
   "source": [
    "**13-Write a Python program to print the following numbers up to 2 decimal places"
   ]
  },
  {
   "cell_type": "code",
   "execution_count": 49,
   "id": "cd4a9d89",
   "metadata": {},
   "outputs": [
    {
     "name": "stdout",
     "output_type": "stream",
     "text": [
      "3.44\n",
      "1.23\n",
      "42.00\n",
      "24.97\n"
     ]
    }
   ],
   "source": [
    "nums=[3.444,1.232,42,24.96699]\n",
    "for i in nums:\n",
    "    print(\"{:.2f}\".format(i))\n",
    "#سُبْحَانَ اللَّهِ رَبِّ السَّمَاوَاتِ وَالْأَرْضِ وَمَا بَيْنَهُمَا ۖ وَرَبِّ الْعَرْشِ الْعَظِيمِ.       "
   ]
  },
  {
   "cell_type": "markdown",
   "id": "452c0ab0",
   "metadata": {},
   "source": [
    "**14-Write a Python program to print the following numbers up to 2 decimal places with a sign"
   ]
  },
  {
   "cell_type": "code",
   "execution_count": 48,
   "id": "73e82479",
   "metadata": {},
   "outputs": [
    {
     "name": "stdout",
     "output_type": "stream",
     "text": [
      "+3.44\n",
      "+1.23\n",
      "+42.00\n",
      "-2.97\n"
     ]
    }
   ],
   "source": [
    "nums=[3.444,1.232,42,-2.96699]\n",
    "for i in nums:\n",
    "        print(\"{:+.2f}\".format(i))\n",
    "#سُبْحَانَ اللَّهِ رَبِّ السَّمَاوَاتِ وَالْأَرْضِ وَمَا بَيْنَهُمَا ۖ وَرَبِّ الْعَرْشِ الْعَظِيمِ.    "
   ]
  },
  {
   "cell_type": "markdown",
   "id": "32b1811a",
   "metadata": {},
   "source": [
    "**15-Write a Python program to display a number with a comma separator"
   ]
  },
  {
   "cell_type": "code",
   "execution_count": 115,
   "id": "f30fc0b6",
   "metadata": {},
   "outputs": [
    {
     "name": "stdout",
     "output_type": "stream",
     "text": [
      "1,000,000\n"
     ]
    }
   ],
   "source": [
    "print(\"{:,}\".format(1000000))\n",
    "#سُبْحَانَ اللَّهِ رَبِّ السَّمَاوَاتِ وَالْأَرْضِ وَمَا بَيْنَهُمَا ۖ وَرَبِّ الْعَرْشِ الْعَظِيمِ."
   ]
  },
  {
   "cell_type": "markdown",
   "id": "0477f487",
   "metadata": {},
   "source": [
    "**16-Write a Python program to reverse a string using 2 ways"
   ]
  },
  {
   "cell_type": "code",
   "execution_count": 55,
   "id": "aa8beec8",
   "metadata": {},
   "outputs": [
    {
     "name": "stdout",
     "output_type": "stream",
     "text": [
      "olleh\n",
      "olleh\n",
      "olleh\n",
      "olleh\n"
     ]
    }
   ],
   "source": [
    "s = \"hello\"\n",
    "print(s[::-1])\n",
    "\n",
    "print(''.join(reversed(s)))\n",
    "\n",
    "def reverse_string(s):\n",
    "    if len(s) == 0:\n",
    "        return s\n",
    "    else:\n",
    "        return reverse_string(s[1:]) + s[0]\n",
    "print(reverse_string(s))\n",
    "\n",
    "sr = \"\"\n",
    "for char in s:\n",
    "    sr = char + sr\n",
    "print(sr)    \n",
    "  #سُبْحَانَ اللَّهِ رَبِّ السَّمَاوَاتِ وَالْأَرْضِ وَمَا بَيْنَهُمَا ۖ وَرَبِّ الْعَرْشِ الْعَظِيمِ.  "
   ]
  },
  {
   "cell_type": "markdown",
   "id": "5afc3166",
   "metadata": {},
   "source": [
    " **17-Write a Python program to count repeated characters in a string (hint:use dictionary)"
   ]
  },
  {
   "cell_type": "code",
   "execution_count": 61,
   "id": "515a469c",
   "metadata": {},
   "outputs": [
    {
     "name": "stdout",
     "output_type": "stream",
     "text": [
      "{'h': 1, 'e': 1, 'l': 2, 'o': 1}\n"
     ]
    }
   ],
   "source": [
    "s =\"hello\"\n",
    "print( {char: s.count(char) for char in s})\n",
    "#سُبْحَانَ اللَّهِ رَبِّ السَّمَاوَاتِ وَالْأَرْضِ وَمَا بَيْنَهُمَا ۖ وَرَبِّ الْعَرْشِ الْعَظِيمِ."
   ]
  },
  {
   "cell_type": "markdown",
   "id": "ae14e4e5",
   "metadata": {},
   "source": [
    "**18-Write a Python program to find the first non-repeating character in a given string"
   ]
  },
  {
   "cell_type": "code",
   "execution_count": 71,
   "id": "d73778e5",
   "metadata": {},
   "outputs": [
    {
     "name": "stdout",
     "output_type": "stream",
     "text": [
      "[]\n"
     ]
    }
   ],
   "source": [
    "s =\"hheeelllooo\"\n",
    "c = Counter(s)\n",
    "l=[]    \n",
    "for char in s:\n",
    "    if c[char] == 1:\n",
    "        l.append(char)\n",
    "print(l)     \n",
    "#سُبْحَانَ اللَّهِ رَبِّ السَّمَاوَاتِ وَالْأَرْضِ وَمَا بَيْنَهُمَا ۖ وَرَبِّ الْعَرْشِ الْعَظِيمِ."
   ]
  },
  {
   "cell_type": "markdown",
   "id": "3adf5669",
   "metadata": {},
   "source": [
    "**19-Write a Python program to remove spaces from a given string"
   ]
  },
  {
   "cell_type": "code",
   "execution_count": 76,
   "id": "b4f22602",
   "metadata": {},
   "outputs": [
    {
     "name": "stdout",
     "output_type": "stream",
     "text": [
      "hheeelllooo\n",
      "hheeelllooo\n",
      "hheeelllooo\n"
     ]
    }
   ],
   "source": [
    "s =\"hh ee elll oo o\"\n",
    "print(s.replace(\" \", \"\"))\n",
    "print(\"\".join(s.split()))\n",
    "print(''.join(char for char in s if char != ' '))\n",
    "#سُبْحَانَ اللَّهِ رَبِّ السَّمَاوَاتِ وَالْأَرْضِ وَمَا بَيْنَهُمَا ۖ وَرَبِّ الْعَرْشِ الْعَظِيمِ."
   ]
  },
  {
   "cell_type": "markdown",
   "id": "734de60c",
   "metadata": {},
   "source": [
    "**20-Write a Python program to count the number of non-empty substrings of a given string"
   ]
  },
  {
   "cell_type": "code",
   "execution_count": 121,
   "id": "ef3f2274",
   "metadata": {},
   "outputs": [
    {
     "name": "stdout",
     "output_type": "stream",
     "text": [
      "['abc', 'acb', 'bac', 'bca', 'cab', 'cba']\n",
      "6\n"
     ]
    }
   ],
   "source": [
    "import itertools\n",
    "\n",
    "s = \"abc\"\n",
    "l = list(itertools.permutations(s))\n",
    "ls = map(''.join, l)\n",
    "ls=list(ls)\n",
    "print(ls)\n",
    "print(len(ls))\n",
    "#اللهم اغفر لي وارحمني واهدني وارزقني."
   ]
  },
  {
   "cell_type": "markdown",
   "id": "509998e2",
   "metadata": {},
   "source": [
    "**21-write a Python program to swap first and last element of any list."
   ]
  },
  {
   "cell_type": "code",
   "execution_count": 77,
   "id": "68692d7f",
   "metadata": {},
   "outputs": [
    {
     "name": "stdout",
     "output_type": "stream",
     "text": [
      "[6, 2, 3, 4, 5, 1]\n"
     ]
    }
   ],
   "source": [
    "l=[1,2,3,4,5,6]\n",
    "if len(l) >= 2:\n",
    "    l[0], l[-1] = l[-1], l[0]\n",
    "print(l)    \n",
    "#اللهم اغفر لي وارحمني واهدني وارزقني."
   ]
  },
  {
   "cell_type": "markdown",
   "id": "959e0837",
   "metadata": {},
   "source": [
    "**22-Given a list in Python and provided the positions of the elements, write a program to swap the two elements in the list. (Input : List = [23, 65, 19, 90], pos1 = 1, pos2 = 3\n",
    "Output : [19, 65, 23, 90])"
   ]
  },
  {
   "cell_type": "code",
   "execution_count": 94,
   "id": "225d8c6d",
   "metadata": {},
   "outputs": [
    {
     "name": "stdout",
     "output_type": "stream",
     "text": [
      "[65, 23]\n"
     ]
    }
   ],
   "source": [
    "l=[23, 65]\n",
    "pos1 = 1 \n",
    "pos2 = 2\n",
    "if 0 <= pos1-1 < len(l) and 0 <= pos2-1 < len(l):\n",
    "        l[pos1-1], l[pos2-1] = l[pos2-1], l[pos1-1]\n",
    "print(l)\n",
    "#اللهم اغفر لي وارحمني واهدني وارزقني."
   ]
  },
  {
   "cell_type": "markdown",
   "id": "66fc6682",
   "metadata": {},
   "source": [
    "**23- search for the all ways to know the length of the list"
   ]
  },
  {
   "cell_type": "code",
   "execution_count": 98,
   "id": "9a88ff6d-c6f1-40c0-9c6a-de04e9c7459b",
   "metadata": {},
   "outputs": [
    {
     "name": "stdout",
     "output_type": "stream",
     "text": [
      "5\n",
      "5\n",
      "5\n"
     ]
    }
   ],
   "source": [
    "l = [1, 2, 3, 4, 5]\n",
    "print(len(l))\n",
    "print(l.__len__())\n",
    "print(sum(1 for _ in l))\n",
    "#اللهم اغفر لي وارحمني واهدني وارزقني."
   ]
  },
  {
   "cell_type": "code",
   "execution_count": null,
   "id": "63ff8b43",
   "metadata": {},
   "outputs": [],
   "source": [
    "**24-write a Python code to find the Maximum number of list of numbers."
   ]
  },
  {
   "cell_type": "code",
   "execution_count": 99,
   "id": "15f342de",
   "metadata": {},
   "outputs": [
    {
     "name": "stdout",
     "output_type": "stream",
     "text": [
      "5\n"
     ]
    }
   ],
   "source": [
    "l = [1, 2, 3, 4, 5]\n",
    "print(max(l))\n",
    "#اللهم اغفر لي وارحمني واهدني وارزقني."
   ]
  },
  {
   "cell_type": "code",
   "execution_count": null,
   "id": "1a89b9d3",
   "metadata": {},
   "outputs": [],
   "source": [
    "**25-write a Python code to find the Minimum number of list of numbers."
   ]
  },
  {
   "cell_type": "code",
   "execution_count": 100,
   "id": "21f8cbd6",
   "metadata": {},
   "outputs": [
    {
     "name": "stdout",
     "output_type": "stream",
     "text": [
      "1\n"
     ]
    }
   ],
   "source": [
    "l = [1, 2, 3, 4, 5]\n",
    "print(min(l))\n",
    "#اللهم اغفر لي وارحمني واهدني وارزقني."
   ]
  },
  {
   "cell_type": "markdown",
   "id": "96822d96",
   "metadata": {},
   "source": [
    "**26-search for if an elem is existing in list"
   ]
  },
  {
   "cell_type": "code",
   "execution_count": 104,
   "id": "51ca5c9a",
   "metadata": {},
   "outputs": [
    {
     "name": "stdout",
     "output_type": "stream",
     "text": [
      "True\n"
     ]
    }
   ],
   "source": [
    "l = [1, 2, 3, 4, 5]\n",
    "e = 5\n",
    "if l.index(e)==len(l)-1:\n",
    "    print(True)\n",
    "else:\n",
    "    print(False)\n",
    "#اللهم اغفر لي وارحمني واهدني وارزقني.    "
   ]
  },
  {
   "cell_type": "markdown",
   "id": "d9557da7",
   "metadata": {},
   "source": [
    "**27- clear python list using different ways"
   ]
  },
  {
   "cell_type": "code",
   "execution_count": 106,
   "id": "b69858a3",
   "metadata": {},
   "outputs": [
    {
     "name": "stdout",
     "output_type": "stream",
     "text": [
      "[]\n"
     ]
    }
   ],
   "source": [
    "l = [1, 2, 3, 4, 5]\n",
    "l.clear()\n",
    "l = []\n",
    "while l:\n",
    "    l.pop()\n",
    "print(l)\n",
    "#اللهم اغفر لي وارحمني واهدني وارزقني."
   ]
  },
  {
   "cell_type": "markdown",
   "id": "52160e88",
   "metadata": {},
   "source": [
    "**28-remove duplicated elements from a list"
   ]
  },
  {
   "cell_type": "code",
   "execution_count": 108,
   "id": "5e362228",
   "metadata": {},
   "outputs": [
    {
     "name": "stdout",
     "output_type": "stream",
     "text": [
      "[1, 2, 3, 4, 5]\n"
     ]
    }
   ],
   "source": [
    "l = [1, 2, 3, 3,4,5, 5]\n",
    "print(list(set(l)))\n",
    "#اللهم اغفر لي وارحمني واهدني وارزقني."
   ]
  },
  {
   "cell_type": "markdown",
   "id": "282337f7",
   "metadata": {},
   "source": [
    "**29-Given list values and keys list, convert these values to key value pairs in form of list of dictionaries. (Input : test_list = [“Gfg”, 3, “is”, 8], key_list = [“name”, “id”]\n",
    "Output : [{‘name’: ‘Gfg’, ‘id’: 3}, {‘name’: ‘is’, ‘id’: 8}])"
   ]
  },
  {
   "cell_type": "code",
   "execution_count": 264,
   "id": "4d4e2d28",
   "metadata": {},
   "outputs": [
    {
     "name": "stdout",
     "output_type": "stream",
     "text": [
      "[{'name': 'Gfg'}, {'id': 3}, {'name': 'is'}, {'id': 8}]\n"
     ]
    }
   ],
   "source": [
    "test_list = [\"Gfg\", 3, \"is\", 8]\n",
    "key_list = [\"name\", \"id\"]\n",
    "result = []\n",
    "for i in range(max(len(test_list), len(key_list))):\n",
    "    key = key_list[i % len(key_list)]\n",
    "    value = test_list[i % len(test_list)]\n",
    "    result.append({key: value})\n",
    "print(result)\n",
    "#اللهم اغفر لي وارحمني واهدني وارزقني."
   ]
  },
  {
   "cell_type": "markdown",
   "id": "c26b6e9f",
   "metadata": {},
   "source": [
    "**30-write a python program to count unique values inside a list using different ways"
   ]
  },
  {
   "cell_type": "code",
   "execution_count": 192,
   "id": "72132667",
   "metadata": {},
   "outputs": [
    {
     "name": "stdout",
     "output_type": "stream",
     "text": [
      "5\n"
     ]
    }
   ],
   "source": [
    "l = [1, 2, 3, 4, 5, 1, 2, 3]\n",
    "print(len(set(l)))\n",
    "#اللهم اغفر لي وارحمني واهدني وارزقني."
   ]
  },
  {
   "cell_type": "markdown",
   "id": "fed6677c",
   "metadata": {},
   "source": [
    "**31-write a python program Extract all elements with Frequency greater than K (Input : test_list = [4, 6, 4, 3, 3, 4, 3, 4, 3, 8], K = 3 \n",
    "Output : [4, 3] )"
   ]
  },
  {
   "cell_type": "code",
   "execution_count": 214,
   "id": "d81f3f9d",
   "metadata": {},
   "outputs": [
    {
     "name": "stdout",
     "output_type": "stream",
     "text": [
      "[3, 4]\n"
     ]
    }
   ],
   "source": [
    "test_list = [4, 6, 4, 3, 3, 4, 3, 4, 3, 8]\n",
    "K = 3\n",
    "result = []\n",
    "for e in test_list:\n",
    "    if test_list.count(e) > K:\n",
    "        result.append(e)\n",
    "      \n",
    "print(list(set(result)))\n",
    "#اللهم اغفر لي وارحمني واهدني وارزقني."
   ]
  },
  {
   "cell_type": "markdown",
   "id": "caca5224",
   "metadata": {},
   "source": [
    "**32-write a python program to find the Strongest Neighbour (Input: 1 2 2 3 4 5\n",
    "Output: 2 2 3 4 5)\n"
   ]
  },
  {
   "cell_type": "code",
   "execution_count": 319,
   "id": "39fbd9b2",
   "metadata": {},
   "outputs": [
    {
     "name": "stdout",
     "output_type": "stream",
     "text": [
      "[2, 2, 3, 4, 5]\n"
     ]
    }
   ],
   "source": [
    "nl = []  \n",
    "l = [1,2,2,3,4,5]\n",
    "for i in range(1, len(l)):\n",
    "    r = max(l[i], l[i-1])\n",
    "    nl.append(r)\n",
    "    \n",
    "print(arr2)\n",
    "#سُبْحَانَ اللَّهِ رَبِّ السَّمَاوَاتِ وَالْأَرْضِ وَمَا بَيْنَهُمَا ۖ وَرَبِّ الْعَرْشِ الْعَظِيمِ."
   ]
  },
  {
   "cell_type": "markdown",
   "id": "a9fa8baf",
   "metadata": {},
   "source": [
    "**33-write a Python Program to print all Possible Combinations from the three Digits (Input: [1, 2, 3]\n",
    "Output:\n",
    "1 2 3 ##\n",
    "1 3 2 ##\n",
    "2 1 3 ##\n",
    "2 3 1 ##\n",
    "3 1 2 ##\n",
    "3 2 1)"
   ]
  },
  {
   "cell_type": "code",
   "execution_count": 160,
   "id": "8c520a76",
   "metadata": {},
   "outputs": [
    {
     "name": "stdout",
     "output_type": "stream",
     "text": [
      "1 2 3 ## 1 3 2 ## 2 1 3 ## 2 3 1 ## 3 1 2 ## 3 2 1 ## "
     ]
    }
   ],
   "source": [
    "from itertools import permutations\n",
    "l=[1,2,3]\n",
    "nl=[]\n",
    "for i in permutations(l):\n",
    "        print(*i,end=\"\" \" ## \")\n",
    "    #اللهم اغفر لي وارحمني واهدني وارزقني."
   ]
  },
  {
   "cell_type": "markdown",
   "id": "5288bb89",
   "metadata": {},
   "source": [
    "**34-write a Python program to find all the Combinations in the list with the given condition (Input: test_list = [1,2,3] \n",
    "Output: \n",
    " [1], [1, 2], [1, 2, 3], [1, 3]\n",
    " [2], [2, 3], [3])"
   ]
  },
  {
   "cell_type": "code",
   "execution_count": 251,
   "id": "59b89646",
   "metadata": {},
   "outputs": [
    {
     "name": "stdout",
     "output_type": "stream",
     "text": [
      "[[1], [2], [3], [1, 2], [1, 3], [2, 3], [1, 2, 3]]\n"
     ]
    }
   ],
   "source": [
    "test_list = [1, 2, 3]\n",
    "result = []\n",
    "for r in range(1, len(test_list) + 1):\n",
    "    combinations = list(itertools.combinations(test_list, r))\n",
    "    result.extend([list(c) for c in combinations])\n",
    "print(result)\n",
    "#اللهم اغفر لي وارحمني واهدني وارزقني."
   ]
  },
  {
   "cell_type": "markdown",
   "id": "39973705",
   "metadata": {},
   "source": [
    "**35-write a Python program to get all unique combinations of two Lists (List_1 = [\"a\",\"b\"]\n",
    "List_2 = [1,2]\n",
    "Unique_combination = [[('a',1),('b',2)],[('a',2),('b',1)]] )"
   ]
  },
  {
   "cell_type": "code",
   "execution_count": 254,
   "id": "8c4ba22b",
   "metadata": {},
   "outputs": [
    {
     "name": "stdout",
     "output_type": "stream",
     "text": [
      "[('b', 1), ('b', 2), ('a', 1), ('a', 2)]\n"
     ]
    }
   ],
   "source": [
    "import itertools\n",
    "list_1 = [\"a\", \"b\"]\n",
    "list_2 = [1, 2]\n",
    "print(list(set(list(itertools.product(list_1, list_2)))))\n",
    "#اللهم اغفر لي وارحمني واهدني وارزقني."
   ]
  },
  {
   "cell_type": "markdown",
   "id": "25199af5",
   "metadata": {},
   "source": [
    "**36-Remove all the occurrences of an element from a list in Python (Input : 1 1 2 3 4 5 1 2 1 \n",
    "\n",
    "**Output : 2 3 4 5 2)"
   ]
  },
  {
   "cell_type": "code",
   "execution_count": 166,
   "id": "6dc4c2ba",
   "metadata": {},
   "outputs": [
    {
     "name": "stdout",
     "output_type": "stream",
     "text": [
      "[2, 3, 4, 5, 2]\n"
     ]
    }
   ],
   "source": [
    "l = [1, 1, 2, 3, 4, 5, 1, 2, 1]\n",
    "r = 1\n",
    "\n",
    "while r in l:\n",
    "    l.remove(r)\n",
    "print(l)    \n",
    "#اللهم اغفر لي وارحمني واهدني وارزقني."
   ]
  },
  {
   "cell_type": "markdown",
   "id": "bf1a3c93",
   "metadata": {},
   "source": [
    "**37-write a python program to Replace index elements with elements in Other List (The original list 1 is : [‘Gfg’, ‘is’, ‘best’] The original list 2 is : [0, 1, 2, 1, 0, 0, 0, 2, 1, 1, 2, 0] The lists after index elements replacements is : [‘Gfg’, ‘is’, ‘best’, ‘is’, ‘Gfg’, ‘Gfg’, ‘Gfg’, ‘best’, ‘is’, ‘is’, ‘best’, ‘Gfg’])"
   ]
  },
  {
   "cell_type": "code",
   "execution_count": 266,
   "id": "fdd66a71",
   "metadata": {},
   "outputs": [
    {
     "name": "stdout",
     "output_type": "stream",
     "text": [
      "['Gfg', 'is', 'best', 'is', 'Gfg', 'Gfg', 'Gfg', 'best', 'is', 'is', 'best', 'Gfg']\n"
     ]
    }
   ],
   "source": [
    "list1 = ['Gfg', 'is', 'best']\n",
    "list2 = [0, 1, 2, 1, 0, 0, 0, 2, 1, 1, 2, 0]\n",
    "result = []\n",
    "for index in list2:\n",
    "    result.append(list1[index])\n",
    "\n",
    "print(result)\n",
    "#اللهم اغفر لي وارحمني واهدني وارزقني."
   ]
  },
  {
   "cell_type": "markdown",
   "id": "af0f56e8",
   "metadata": {},
   "source": [
    "**38- write python program to Retain records with N occurrences of K(Input : test_list = [(4, 5, 5, 4), (5, 4, 3)], K = 5, N = 2 \n",
    "Output : [(4, 5, 5, 4)]\n",
    "Input : test_list = [(4, 5, 5, 4), (5, 4, 3)], K = 5, N = 3 \n",
    "Output : [] )"
   ]
  },
  {
   "cell_type": "code",
   "execution_count": 270,
   "id": "67b06671",
   "metadata": {},
   "outputs": [
    {
     "name": "stdout",
     "output_type": "stream",
     "text": [
      "[]\n"
     ]
    }
   ],
   "source": [
    "test_list = [(4, 5, 5, 4), (5, 4, 3)]\n",
    "K = 5\n",
    "N = 3\n",
    "result = []\n",
    "for i in test_list:\n",
    "    if i.count(K) == N:\n",
    "        result.append(i)\n",
    "print(result)\n",
    "#اللهم اغفر لي وارحمني واهدني وارزقني."
   ]
  },
  {
   "cell_type": "markdown",
   "id": "de76f183",
   "metadata": {},
   "source": [
    "**39-write a Python Program to Sort the list according to the column using lambda\n",
    "array = [[1, 3, 3], [2, 1, 2], [3, 2, 1]]\n",
    "Output :\n",
    "Sorted array specific to column 0, [[1, 3, 3], [2, 1, 2], [3, 2, 1]]\n",
    "Sorted array specific to column 1, [[2, 1, 2], [3, 2, 1], [1, 3, 3]]\n",
    "Sorted array specific to column 2, [[3, 2, 1], [2, 1, 2], [1, 3, 3]]"
   ]
  },
  {
   "cell_type": "code",
   "execution_count": 273,
   "id": "dc883308",
   "metadata": {},
   "outputs": [
    {
     "name": "stdout",
     "output_type": "stream",
     "text": [
      "column 0: [[1, 3, 3], [2, 1, 2], [3, 2, 1]]\n",
      "column 1: [[2, 1, 2], [3, 2, 1], [1, 3, 3]]\n",
      "column 2: [[3, 2, 1], [2, 1, 2], [1, 3, 3]]\n"
     ]
    }
   ],
   "source": [
    "array = [[1, 3, 3], [2, 1, 2], [3, 2, 1]]\n",
    "\n",
    "for i in range(len(array[0])):\n",
    "    sorted_array = sorted(array, key=lambda x: x[i])\n",
    "    print(f\"column {i}:\", sorted_array)\n",
    "    \n",
    "#اللهم اغفر لي وارحمني واهدني وارزقني."
   ]
  },
  {
   "cell_type": "code",
   "execution_count": null,
   "id": "d2e7b31f",
   "metadata": {},
   "outputs": [],
   "source": [
    "**40- write a program to Sort Python Dictionaries by Key or Value\n",
    "Input:\n",
    "{'ravi': 10, 'rajnish': 9, 'sanjeev': 15, 'yash': 2, 'suraj': 32}\n",
    "\n",
    "Output: \n",
    "{'rajnish': 9, 'ravi': 10, 'sanjeev': 15, 'suraj': 32, 'yash': 2}"
   ]
  },
  {
   "cell_type": "code",
   "execution_count": 284,
   "id": "a96db4a0",
   "metadata": {},
   "outputs": [
    {
     "name": "stdout",
     "output_type": "stream",
     "text": [
      "{'rajnish': 9, 'ravi': 10, 'sanjeev': 15, 'suraj': 32, 'yash': 2}\n"
     ]
    }
   ],
   "source": [
    "dicti = {'ravi': 10, 'rajnish': 9, 'sanjeev': 15, 'yash': 2, 'suraj': 32}\n",
    "print(dict(sorted(dicti.items())))\n",
    "#لا إله إلا الله وحده لا شريك له، له الملك وله الحمد، وهو على كل شيء قدير."
   ]
  },
  {
   "cell_type": "markdown",
   "id": "ec63c23a",
   "metadata": {},
   "source": [
    "**41-write python program to Remove keys with Values Greater than K ( Including mixed values )\n",
    "nput : test_dict = {‘Gfg’ : 3, ‘is’ : 7, ‘best’ : 10, ‘for’ : 6, ‘geeks’ : ‘CS’},\n",
    "K = 7 \n",
    "Output : {‘Gfg’ : 3, ‘for’ : 6, ‘geeks’ : ‘CS’}"
   ]
  },
  {
   "cell_type": "code",
   "execution_count": 310,
   "id": "e39c3a40",
   "metadata": {},
   "outputs": [
    {
     "name": "stdout",
     "output_type": "stream",
     "text": [
      "{'Gfg': 3, 'is': 7, 'for': 6, 'geeks': 'CS'}\n"
     ]
    }
   ],
   "source": [
    "test_dict = {'Gfg': 3, 'is': 7, 'best': 10, 'for': 6, 'geeks': 'CS'}\n",
    "K = 7+1\n",
    "for key in list(test_dict.keys()):\n",
    "    if isinstance(test_dict[key], int) and test_dict[key] > K:\n",
    "        del test_dict[key]\n",
    "\n",
    "print(test_dict)\n",
    "#لا إله إلا الله وحده لا شريك له، له الملك وله الحمد، وهو على كل شيء قدير."
   ]
  },
  {
   "cell_type": "markdown",
   "id": "f143f0fe",
   "metadata": {},
   "source": [
    "**42-Write a Python program to concatenate the following dictionaries to create a new one\n",
    "\n",
    "Sample Dictionary :\n",
    "dic1={1:10, 2:20}\n",
    "dic2={3:30, 4:40}\n",
    "dic3={5:50,6:60}\n",
    "Expected Result : {1: 10, 2: 20, 3: 30, 4: 40, 5: 50, 6: 60}"
   ]
  },
  {
   "cell_type": "code",
   "execution_count": 234,
   "id": "74ffdfea",
   "metadata": {},
   "outputs": [
    {
     "name": "stdout",
     "output_type": "stream",
     "text": [
      "{1: 10, 2: 20, 3: 30, 4: 40, 5: 50, 6: 60}\n"
     ]
    }
   ],
   "source": [
    "def ds(*dicts):\n",
    "    result = {}\n",
    "    for d in dicts:\n",
    "        result.update(d)\n",
    "    return result\n",
    "\n",
    "dic1={1:10, 2:20}\n",
    "dic2={3:30, 4:40}\n",
    "dic3={5:50,6:60}\n",
    "print(ds(dic1,dic2,dic3))\n",
    "#لا إله إلا الله وحده لا شريك له، له الملك وله الحمد، وهو على كل شيء قدير."
   ]
  },
  {
   "cell_type": "markdown",
   "id": "fb04c93c",
   "metadata": {},
   "source": [
    "**43-Write a Python program to iterate over dictionaries using for loops"
   ]
  },
  {
   "cell_type": "code",
   "execution_count": 291,
   "id": "6aebc470",
   "metadata": {},
   "outputs": [
    {
     "name": "stdout",
     "output_type": "stream",
     "text": [
      "a\n",
      "b\n",
      "c\n",
      "\n",
      "1\n",
      "2\n",
      "3\n",
      "\n",
      "a -> 1\n",
      "b -> 2\n",
      "c -> 3\n"
     ]
    }
   ],
   "source": [
    "d = {'a': 1, 'b': 2, 'c': 3}\n",
    "for key in d:\n",
    "    print(key)\n",
    "print()\n",
    "for value in d.values():\n",
    "    print(value)\n",
    "print()\n",
    "\n",
    "for key, value in d.items():\n",
    "    print(key, \"->\", value)\n",
    "#لا إله إلا الله وحده لا شريك له، له الملك وله الحمد، وهو على كل شيء قدير.    \n",
    "    "
   ]
  },
  {
   "cell_type": "markdown",
   "id": "5f491a9d",
   "metadata": {},
   "source": [
    "**44- Write a Python script to merge two Python dictionaries"
   ]
  },
  {
   "cell_type": "code",
   "execution_count": 302,
   "id": "b8a14028",
   "metadata": {},
   "outputs": [
    {
     "name": "stdout",
     "output_type": "stream",
     "text": [
      "{'1': 1, '2': 2, '3': 3, '4': 4}\n",
      "{'1': 1, '2': 2, '3': 3, '4': 4}\n"
     ]
    }
   ],
   "source": [
    "d1 = {'1': 1, '2': 2}\n",
    "d2 = {'3': 3, '4': 4}\n",
    "d1.update(d2)\n",
    "print(d1)\n",
    "\n",
    "dm = {**d1, **d2}\n",
    "print(dm)\n",
    "#لا إله إلا الله وحده لا شريك له، له الملك وله الحمد، وهو على كل شيء قدير."
   ]
  },
  {
   "cell_type": "markdown",
   "id": "216fc72d",
   "metadata": {},
   "source": [
    "**45-Write a Python program to get the maximum and minimum values of a dictionary values"
   ]
  },
  {
   "cell_type": "code",
   "execution_count": 124,
   "id": "d6883f5f",
   "metadata": {},
   "outputs": [
    {
     "name": "stdout",
     "output_type": "stream",
     "text": [
      "20\n",
      "5\n"
     ]
    }
   ],
   "source": [
    "d = {'10': 10, '20': 20, '5': 5, '15': 15}\n",
    "print( max(d.values()))\n",
    "print(min(d.values()))\n",
    "#لا إله إلا الله وحده لا شريك له، له الملك وله الحمد، وهو على كل شيء قدير."
   ]
  },
  {
   "cell_type": "markdown",
   "id": "b6a53011",
   "metadata": {},
   "source": [
    "**46- Write a Python program to drop empty items from a given dictionary.\n",
    "Original Dictionary:\n",
    "{'c1': 'Red', 'c2': 'Green', 'c3': None}\n",
    "New Dictionary after dropping empty items:\n",
    "{'c1': 'Red', 'c2': 'Green'}"
   ]
  },
  {
   "cell_type": "code",
   "execution_count": 229,
   "id": "b5c6fecf",
   "metadata": {},
   "outputs": [
    {
     "name": "stdout",
     "output_type": "stream",
     "text": [
      "{'c1': 'Red', 'c2': 'Green'}\n",
      "{'c1': 'Red', 'c2': 'Green'}\n"
     ]
    }
   ],
   "source": [
    "original_dictionary= {'c1': 'Red', 'c2': 'Green', 'c3': None} \n",
    "print(dict(filter(lambda item: item[1] is not None, original_dictionary.items())))\n",
    "d = {}\n",
    "for key, value in original_dictionary.items():\n",
    "    if value is not None:\n",
    "        d[key] = value\n",
    "print(d)\n",
    "#لا إله إلا الله وحده لا شريك له، له الملك وله الحمد، وهو على كل شيء قدير."
   ]
  },
  {
   "cell_type": "markdown",
   "id": "46d718c7",
   "metadata": {},
   "source": [
    "**47-Write a Python program to create a tuple of numbers and print one item"
   ]
  },
  {
   "cell_type": "code",
   "execution_count": 122,
   "id": "13216ff5",
   "metadata": {},
   "outputs": [
    {
     "name": "stdout",
     "output_type": "stream",
     "text": [
      "3\n"
     ]
    }
   ],
   "source": [
    "t = (1, 2, 3, 4, 5)\n",
    "print(t[2]) \n",
    "#لا إله إلا الله وحده لا شريك له، له الملك وله الحمد، وهو على كل شيء قدير."
   ]
  },
  {
   "cell_type": "markdown",
   "id": "2be5b56b",
   "metadata": {},
   "source": [
    "**48-Write a Python program to unpack a tuple into several variables"
   ]
  },
  {
   "cell_type": "code",
   "execution_count": 190,
   "id": "595f44be",
   "metadata": {},
   "outputs": [
    {
     "name": "stdout",
     "output_type": "stream",
     "text": [
      "1\n",
      "2\n",
      "3\n"
     ]
    }
   ],
   "source": [
    "t = (1, 2, 3)\n",
    "\n",
    "v1, v2, v3 = t\n",
    "print(v1)\n",
    "print(v2)\n",
    "print(v3)\n",
    "#لا إله إلا الله وحده لا شريك له، له الملك وله الحمد، وهو على كل شيء قدير."
   ]
  },
  {
   "cell_type": "markdown",
   "id": "392388a7",
   "metadata": {},
   "source": [
    "**49-Write a Python program to add an item to a tuple"
   ]
  },
  {
   "cell_type": "code",
   "execution_count": 131,
   "id": "54cc092e",
   "metadata": {},
   "outputs": [
    {
     "name": "stdout",
     "output_type": "stream",
     "text": [
      "(1, 2, 3, 4, 5, 6)\n"
     ]
    }
   ],
   "source": [
    "t = (1, 2, 3, 4,5)\n",
    "t = t + (6,)\n",
    "print(t)\n",
    "#لا إله إلا الله وحده لا شريك له، له الملك وله الحمد، وهو على كل شيء قدير."
   ]
  },
  {
   "cell_type": "markdown",
   "id": "3e8fd124",
   "metadata": {},
   "source": [
    "**50-Write a Python program to convert a tuple to a string"
   ]
  },
  {
   "cell_type": "code",
   "execution_count": 132,
   "id": "92a71ddc",
   "metadata": {},
   "outputs": [
    {
     "name": "stdout",
     "output_type": "stream",
     "text": [
      "12345\n"
     ]
    }
   ],
   "source": [
    "t = (1, 2, 3, 4,5)\n",
    "print(''.join(map(str, t)))\n",
    "#اللهم إني أستغفرك وأتوب إليك"
   ]
  },
  {
   "cell_type": "markdown",
   "id": "f4f64ef4",
   "metadata": {},
   "source": [
    "**51-Write a Python program to convert a list to a tuple"
   ]
  },
  {
   "cell_type": "code",
   "execution_count": 135,
   "id": "210d56d3",
   "metadata": {},
   "outputs": [
    {
     "name": "stdout",
     "output_type": "stream",
     "text": [
      "(1, 2, 3, 3, 4)\n"
     ]
    }
   ],
   "source": [
    "l = [1, 2, 3, 3,4]\n",
    "print(tuple(l))\n",
    "#اللهم إني أستغفرك وأتوب إليك"
   ]
  },
  {
   "cell_type": "markdown",
   "id": "b1e00ef7",
   "metadata": {},
   "source": [
    "**52-Write a Python program to reverse a tuple"
   ]
  },
  {
   "cell_type": "code",
   "execution_count": 136,
   "id": "f45bfdc7",
   "metadata": {},
   "outputs": [
    {
     "name": "stdout",
     "output_type": "stream",
     "text": [
      "(5, 4, 3, 2, 1)\n"
     ]
    }
   ],
   "source": [
    "t = (1, 2, 3, 4,5)\n",
    "print(t[::-1])\n",
    "#اللهم إني أستغفرك وأتوب إليك"
   ]
  },
  {
   "cell_type": "markdown",
   "id": "3cd347d1",
   "metadata": {},
   "source": [
    "**53-Write a Python program to replace the last value of tuples in a list.\n",
    "Sample list: [(10, 20, 40), (40, 50, 60), (70, 80, 90)]\n",
    "Expected Output: [(10, 20, 100), (40, 50, 100), (70, 80, 100)]"
   ]
  },
  {
   "cell_type": "code",
   "execution_count": 170,
   "id": "3c4a2a4c",
   "metadata": {},
   "outputs": [
    {
     "name": "stdout",
     "output_type": "stream",
     "text": [
      "[(10, 20, 100), (40, 50, 100), (70, 80, 100)]\n"
     ]
    }
   ],
   "source": [
    "lt = [(10, 20, 40), (40, 50, 60), (70, 80, 90)]\n",
    "print([tuple(t[:-1]) + (100,) for t in lt])\n",
    "#اللهم إني أستغفرك وأتوب إليك"
   ]
  },
  {
   "cell_type": "markdown",
   "id": "76bb7b39",
   "metadata": {},
   "source": [
    "**54-Write a Python program to convert a given string list to a tuple\n",
    "Original string: python 3.0\n",
    "<class 'str'>\n",
    "Convert the said string to a tuple:\n",
    "('p', 'y', 't', 'h', 'o', 'n', '3', '.', '0')"
   ]
  },
  {
   "cell_type": "code",
   "execution_count": 174,
   "id": "51951937",
   "metadata": {},
   "outputs": [
    {
     "name": "stdout",
     "output_type": "stream",
     "text": [
      "('p', 'y', 't', 'h', 'o', 'n', '3', '.', '0')\n"
     ]
    }
   ],
   "source": [
    "s=\"python 3.0\"\n",
    "print(tuple(s.replace(' ','')))\n",
    "#اللهم إني أستغفرك وأتوب إليك"
   ]
  },
  {
   "cell_type": "markdown",
   "id": "5a1d5d97",
   "metadata": {},
   "source": [
    "**55-Write a Python program to calculate the average value of the numbers in a given tuple of tuples"
   ]
  },
  {
   "cell_type": "code",
   "execution_count": 167,
   "id": "834e7992",
   "metadata": {},
   "outputs": [
    {
     "name": "stdout",
     "output_type": "stream",
     "text": [
      "6.0\n"
     ]
    }
   ],
   "source": [
    "t =((1, 2,3), (4, 5,6,7), (8, 9,10,11))\n",
    "tS = 0\n",
    "tE = 0\n",
    "for i in t:\n",
    "    tS += sum(i)\n",
    "    tE += len(i)\n",
    "print( tS / tE)\n",
    "#اللهم إني أستغفرك وأتوب إليك"
   ]
  },
  {
   "cell_type": "markdown",
   "id": "51edab9c",
   "metadata": {},
   "source": [
    "**56-Write a Python program to add member(s) to a set."
   ]
  },
  {
   "cell_type": "code",
   "execution_count": 175,
   "id": "2b65df79",
   "metadata": {},
   "outputs": [
    {
     "name": "stdout",
     "output_type": "stream",
     "text": [
      "{1, 2, 3, 4}\n"
     ]
    }
   ],
   "source": [
    "s = {1, 2, 3}\n",
    "s.add(4)\n",
    "print(s)"
   ]
  },
  {
   "cell_type": "markdown",
   "id": "965590cc",
   "metadata": {},
   "source": [
    "**57-Write a Python program to remove an item from a set if it is present in the set."
   ]
  },
  {
   "cell_type": "code",
   "execution_count": 182,
   "id": "866bab28",
   "metadata": {},
   "outputs": [
    {
     "name": "stdout",
     "output_type": "stream",
     "text": [
      "0 is not found in the set\n"
     ]
    }
   ],
   "source": [
    "s = {1, 2, 3}\n",
    "i=0\n",
    "if i in s:\n",
    "    s.remove(i)\n",
    "    print(i , \"removed from the set\")\n",
    "else:\n",
    "    print(i, \"is not found in the set\")\n",
    "#اللهم إني أستغفرك وأتوب إليك    \n",
    "    "
   ]
  },
  {
   "cell_type": "markdown",
   "id": "2b7cfed1",
   "metadata": {},
   "source": [
    "**58-Write a Python program to create an intersection,union,difference and symmetric difference of sets"
   ]
  },
  {
   "cell_type": "code",
   "execution_count": 189,
   "id": "7f94b7fe",
   "metadata": {},
   "outputs": [
    {
     "name": "stdout",
     "output_type": "stream",
     "text": [
      "{1, 2, 3, 4, 5, 6, 7, 8}\n",
      "{1, 2, 3}\n",
      "{1, 2, 3, 6, 7, 8}\n"
     ]
    }
   ],
   "source": [
    "s1 = {1, 2, 3, 4, 5}\n",
    "s2 = {4, 5, 6, 7, 8}\n",
    "print(s1.union(s2))\n",
    "print(s1.difference(s2))\n",
    "print(s1.symmetric_difference(s2))\n",
    "#اللهم إني أستغفرك وأتوب إليك"
   ]
  },
  {
   "cell_type": "markdown",
   "id": "b94931e2",
   "metadata": {},
   "source": [
    "**59-Write a Python program to find the maximum and minimum values in a set"
   ]
  },
  {
   "cell_type": "code",
   "execution_count": 185,
   "id": "203f9600",
   "metadata": {},
   "outputs": [
    {
     "name": "stdout",
     "output_type": "stream",
     "text": [
      "3\n",
      "1\n"
     ]
    }
   ],
   "source": [
    "s = {1, 2, 3}\n",
    "print(max(s))\n",
    "print(min(s))\n",
    "#اللهم إني أستغفرك وأتوب إليك"
   ]
  },
  {
   "cell_type": "markdown",
   "id": "255fd554",
   "metadata": {},
   "source": [
    "**60- Write a Python program that finds all pairs of elements in a list whose sum is equal to a given value."
   ]
  },
  {
   "cell_type": "code",
   "execution_count": 305,
   "id": "c2d94e1f",
   "metadata": {},
   "outputs": [
    {
     "name": "stdout",
     "output_type": "stream",
     "text": [
      "[(4, 2), (5, 1)]\n"
     ]
    }
   ],
   "source": [
    "lst = [1, 2, 3, 4, 5]\n",
    "v = 6\n",
    "seen = set()\n",
    "m = []\n",
    "for num in lst:\n",
    "    rest = v - num\n",
    "    if rest in seen:\n",
    "        m.append((num, rest))\n",
    "    seen.add(num)\n",
    "print(m)\n",
    "#اللهم إني أستغفرك وأتوب إليك"
   ]
  }
 ],
 "metadata": {
  "kernelspec": {
   "display_name": "Python 3 (ipykernel)",
   "language": "python",
   "name": "python3"
  },
  "language_info": {
   "codemirror_mode": {
    "name": "ipython",
    "version": 3
   },
   "file_extension": ".py",
   "mimetype": "text/x-python",
   "name": "python",
   "nbconvert_exporter": "python",
   "pygments_lexer": "ipython3",
   "version": "3.11.7"
  }
 },
 "nbformat": 4,
 "nbformat_minor": 5
}
